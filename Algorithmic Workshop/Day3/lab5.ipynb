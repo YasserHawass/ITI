{
 "cells": [
  {
   "cell_type": "code",
   "execution_count": 1,
   "metadata": {},
   "outputs": [
    {
     "name": "stdout",
     "output_type": "stream",
     "text": [
      "['0', '1', '7', '2', '3', '4', '8']\n"
     ]
    }
   ],
   "source": [
    "nodes_dictionary = {'0': ['1', '8'],\n",
    "                    '1': ['0', '7'],\n",
    "                    '2': ['3', '7', '5'],\n",
    "                    '3': ['0', '4'],\n",
    "                    '4': ['3', '8'],\n",
    "                    '5': ['2', '6'],\n",
    "                    '6': ['5'],\n",
    "                    '7': ['2', '1'],\n",
    "                    '8': ['0', '4']}\n",
    "\n",
    "# dfs function for finding the path\n",
    "def dfs(graph, start, end, path=[]):\n",
    "    path = path + [start]\n",
    "    if start == end:\n",
    "        return path\n",
    "    if not graph.get(start):\n",
    "        return None\n",
    "    for node in graph[start]:\n",
    "        if node not in path:\n",
    "            newpath = dfs(graph, node, end, path)\n",
    "            if newpath:\n",
    "                return newpath\n",
    "    return None\n",
    "\n",
    "print(dfs(nodes_dictionary, '0', '8'))  # really outputed an amazing path and an insight about the dfs algorithm\n"
   ]
  },
  {
   "cell_type": "code",
   "execution_count": 6,
   "metadata": {},
   "outputs": [
    {
     "name": "stdout",
     "output_type": "stream",
     "text": [
      "['0', '1', '8']\n"
     ]
    }
   ],
   "source": [
    "# bfs function for finding the path\n",
    "def bfs(graph, start, end, path=[]):\n",
    "    queue = [start]\n",
    "    while queue:\n",
    "        node = queue.pop(0)\n",
    "        if node == end:\n",
    "            return path + [node]\n",
    "        if node not in path:\n",
    "            path = path + [node]\n",
    "            queue = queue + graph[node]\n",
    "    return None\n",
    "\n",
    "print(bfs(nodes_dictionary, '0', '8'))\n",
    "\n"
   ]
  },
  {
   "cell_type": "code",
   "execution_count": 22,
   "metadata": {},
   "outputs": [
    {
     "name": "stdout",
     "output_type": "stream",
     "text": [
      "15\n"
     ]
    }
   ],
   "source": [
    "weighted_nodes = {\n",
    "                    0: {1:8, 2:9},\n",
    "                    1: {0:8, 5:7, 3:1, 6:9},\n",
    "                    2: {0:9, 5:6, 6:4},\n",
    "                    3: {1:1, 7:4},\n",
    "                    4: {7:7, 6:7},\n",
    "                    5: {1:7, 2:6, 7:2},\n",
    "                    6: {1:9, 2:4, 4:7, 7:6},\n",
    "                    7: {3:4, 4:7, 5:2, 6:6}\n",
    "                }\n",
    "\n",
    "# djikstra algorithm for finding the shortest path from single source to single target\n",
    "def djikstra(graph, start, end):\n",
    "    queue = [(start, 0)]\n",
    "    visited = []\n",
    "    while queue:\n",
    "        node, cost = queue.pop(0)\n",
    "        if node not in visited:\n",
    "            visited.append(node)\n",
    "            if node == end:\n",
    "                return cost\n",
    "            for neighbor, weight in graph[node].items():\n",
    "                if neighbor not in visited:\n",
    "                    queue.append((neighbor, cost + weight))\n",
    "    return None\n",
    "\n",
    "print(djikstra(weighted_nodes, 0, 5))\n"
   ]
  },
  {
   "cell_type": "code",
   "execution_count": null,
   "metadata": {},
   "outputs": [],
   "source": []
  }
 ],
 "metadata": {
  "interpreter": {
   "hash": "ed153983524b4d10ea15562eb676cef75ed842de7f708afb611bd9e3a0b1e607"
  },
  "kernelspec": {
   "display_name": "Python 3 (ipykernel)",
   "language": "python",
   "name": "python3"
  },
  "language_info": {
   "codemirror_mode": {
    "name": "ipython",
    "version": 3
   },
   "file_extension": ".py",
   "mimetype": "text/x-python",
   "name": "python",
   "nbconvert_exporter": "python",
   "pygments_lexer": "ipython3",
   "version": "3.9.7"
  }
 },
 "nbformat": 4,
 "nbformat_minor": 2
}
