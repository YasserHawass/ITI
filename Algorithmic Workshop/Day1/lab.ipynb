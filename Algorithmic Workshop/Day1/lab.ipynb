{
 "cells": [
  {
   "cell_type": "code",
   "execution_count": 2,
   "metadata": {},
   "outputs": [
    {
     "name": "stdout",
     "output_type": "stream",
     "text": [
      "120\n",
      "120\n"
     ]
    }
   ],
   "source": [
    "# factorial iterative\n",
    "def factorial(n):\n",
    "    fact = 1\n",
    "    for i in range(1, n+1):\n",
    "        fact *= i\n",
    "    return fact\n",
    "\n",
    "# factorial recursive\n",
    "def factorial_rec(n):\n",
    "    if n == 1:\n",
    "        return 1\n",
    "    else:\n",
    "        return n * factorial_rec(n-1)\n",
    "\n",
    "\n",
    "print(factorial(5))\n",
    "print(factorial_rec(5))"
   ]
  },
  {
   "cell_type": "code",
   "execution_count": 3,
   "metadata": {},
   "outputs": [
    {
     "name": "stdout",
     "output_type": "stream",
     "text": [
      "55\n",
      "55\n"
     ]
    }
   ],
   "source": [
    "# fibonacci iterative\n",
    "def fibonacci(n):\n",
    "    fib = [0, 1]\n",
    "    for i in range(2, n+1):\n",
    "        fib.append(fib[i-1] + fib[i-2])\n",
    "    return fib[n]\n",
    "\n",
    "# fibonacci recursive\n",
    "def fibonacci_rec(n):\n",
    "    if n == 0:\n",
    "        return 0\n",
    "    elif n == 1:\n",
    "        return 1\n",
    "    else:\n",
    "        return fibonacci_rec(n-1) + fibonacci_rec(n-2)\n",
    "\n",
    "print(fibonacci(10))\n",
    "print(fibonacci_rec(10))"
   ]
  },
  {
   "cell_type": "code",
   "execution_count": 5,
   "metadata": {},
   "outputs": [
    {
     "name": "stdout",
     "output_type": "stream",
     "text": [
      "4\n",
      "4\n"
     ]
    }
   ],
   "source": [
    "# linear search iterative\n",
    "def linear_search(arr, n):\n",
    "    for i in range(len(arr)):\n",
    "        if arr[i] == n:\n",
    "            return i\n",
    "    return -1\n",
    "\n",
    "# linear search recursive\n",
    "def linear_search_rec(arr, n):\n",
    "    if len(arr) == 0:\n",
    "        return -1\n",
    "    else:\n",
    "        if arr[0] == n:\n",
    "            return 0\n",
    "        else:\n",
    "            return 1 + linear_search_rec(arr[1:], n)\n",
    "\n",
    "# please care that output is 0 indexed, and -1 means not found\n",
    "print(linear_search([1, 2, 3, 4, 5], 5))\n",
    "print(linear_search_rec([1, 2, 3, 4, 5], 5))"
   ]
  },
  {
   "cell_type": "code",
   "execution_count": 8,
   "metadata": {},
   "outputs": [
    {
     "name": "stdout",
     "output_type": "stream",
     "text": [
      "4\n",
      "4\n"
     ]
    }
   ],
   "source": [
    "# binary search iterative\n",
    "def binary_search(arr, n):\n",
    "    low = 0\n",
    "    high = len(arr) - 1\n",
    "    while low <= high:\n",
    "        mid = (low + high) // 2\n",
    "        if arr[mid] == n:\n",
    "            return mid\n",
    "        elif arr[mid] < n:\n",
    "            low = mid + 1\n",
    "        else:\n",
    "            high = mid - 1\n",
    "    return -1\n",
    "\n",
    "# binary search recursive\n",
    "def binary_search_rec(arr, low, high, n):\n",
    "    if low > high:\n",
    "        return -1\n",
    "    else:\n",
    "        mid = (low + high) // 2\n",
    "        if arr[mid] == n:\n",
    "            return mid\n",
    "        elif arr[mid] < n:\n",
    "            return binary_search_rec(arr, mid+1, high, n)\n",
    "        else:\n",
    "            return binary_search_rec(arr, low, mid-1, n)\n",
    "\n",
    "\n",
    "# please care that output is 0 indexed, and -1 means not found\n",
    "print(binary_search([1, 2, 3, 4, 5], 5))\n",
    "print(binary_search_rec([1, 2, 3, 4, 5], 0, 4, 5))"
   ]
  },
  {
   "cell_type": "code",
   "execution_count": 48,
   "metadata": {},
   "outputs": [
    {
     "name": "stdout",
     "output_type": "stream",
     "text": [
      "5 6 11 12 13 "
     ]
    }
   ],
   "source": [
    "def insertionSortRecursive(arr,n):\n",
    "    # base case\n",
    "    if n<=1:\n",
    "        return\n",
    "     \n",
    "    # Sort first n-1 elements\n",
    "    insertionSortRecursive(arr,n-1)\n",
    "    '''Insert last element at its correct position\n",
    "        in sorted array.'''\n",
    "    last = arr[n-1]\n",
    "    j = n-2\n",
    "     \n",
    "      # Move elements of arr[0..i-1], that are\n",
    "      # greater than key, to one position ahead\n",
    "      # of their current position\n",
    "    while (j>=0 and arr[j]>last):\n",
    "        arr[j+1] = arr[j]\n",
    "        j = j-1\n",
    " \n",
    "    arr[j+1]=last\n",
    "     \n",
    "# A utility function to print an array of size n\n",
    "def printArray(arr,n):\n",
    "    for i in range(n):\n",
    "        print(arr[i],end=\" \")\n",
    " \n",
    "# Driver program to test insertion sort\n",
    "arr = [12,11,13,5,6]\n",
    "n = len(arr)\n",
    "insertionSortRecursive(arr, n)\n",
    "printArray(arr, n)\n",
    " "
   ]
  },
  {
   "cell_type": "code",
   "execution_count": 57,
   "metadata": {},
   "outputs": [
    {
     "name": "stdout",
     "output_type": "stream",
     "text": [
      "[1, 2, 3, 4, 5, 6]\n"
     ]
    },
    {
     "data": {
      "text/plain": [
       "[5, 6, 11, 12, 13]"
      ]
     },
     "execution_count": 57,
     "metadata": {},
     "output_type": "execute_result"
    }
   ],
   "source": [
    "# insertion sort iterative\n",
    "# like play cards, we need to sort the cards\n",
    "def insertion_sort(arr):\n",
    "    for i in range(1, len(arr)):\n",
    "        pivot = arr[i]\n",
    "        j = i - 1\n",
    "        while j >= 0 and arr[j] > pivot:\n",
    "            arr[j+1] = arr[j]\n",
    "            j -= 1\n",
    "        arr[j+1] = pivot\n",
    "    return arr\n",
    "\n",
    "# insertion sort recursive\n",
    "def insertion_sort_rec(arr, i):\n",
    "    if i <= 1:\n",
    "        return\n",
    "    insertion_sort_rec(arr, i-1)\n",
    "    pivot = arr[i-1]\n",
    "    j = i - 2\n",
    "    while j >= 0 and arr[j] > pivot:\n",
    "        arr[j+1] = arr[j]\n",
    "        j -= 1\n",
    "    arr[j+1] = pivot\n",
    "    return arr\n",
    "    \n",
    "\n",
    "print(insertion_sort([5, 2, 4, 6, 1, 3]))\n",
    "insertion_sort_rec([12,11,13,5,6], 5)"
   ]
  },
  {
   "cell_type": "code",
   "execution_count": 21,
   "metadata": {},
   "outputs": [
    {
     "name": "stdout",
     "output_type": "stream",
     "text": [
      "[1, 2, 3, 4, 5, 6]\n"
     ]
    }
   ],
   "source": [
    "# find the smallest element in the array\n",
    "def find_min(arr, i):\n",
    "        min_index = i\n",
    "        for j in range(i, len(arr)):\n",
    "            if arr[j] < arr[min_index]:\n",
    "                min_index = j\n",
    "        return min_index\n",
    "# selection sort function\n",
    "def selection_sort(arr, n):\n",
    "    for i in range(n):\n",
    "        min_index = find_min(arr, i)\n",
    "        arr[i], arr[min_index] = arr[min_index], arr[i]\n",
    "    return arr\n",
    "\n",
    "print(selection_sort([5, 2, 4, 6, 1, 3], 6))\n",
    "    \n",
    "    \n",
    "    "
   ]
  },
  {
   "cell_type": "code",
   "execution_count": 24,
   "metadata": {},
   "outputs": [
    {
     "name": "stdout",
     "output_type": "stream",
     "text": [
      "[1, 2, 3, 4, 5, 6]\n",
      "[1, 2, 3, 4, 5, 6]\n"
     ]
    }
   ],
   "source": [
    "# swap function\n",
    "def swap(arr, i, j):\n",
    "    arr[i], arr[j] = arr[j], arr[i]\n",
    "\n",
    "\n",
    "# bubble sort with swap\n",
    "def bubble_sort(arr):\n",
    "    for i in range(len(arr)):\n",
    "        for j in range(len(arr)-1, i, -1):\n",
    "            if arr[j] < arr[j-1]:\n",
    "                swap(arr, j, j-1)\n",
    "    return arr\n",
    "\n",
    "# bubble sort with flag\n",
    "# flag in the inner loop to indicate that the vector is sorted.\n",
    "def bubble_sort_flag(arr):\n",
    "    swapped = True\n",
    "    for i in range(len(arr)):\n",
    "        # exit outer loop whenever the inner loop doesn't make any changes.\n",
    "        if not swapped:\n",
    "            break\n",
    "        swapped = False\n",
    "        for j in range(len(arr)-1, i, -1):\n",
    "            if arr[j] < arr[j-1]:\n",
    "                swap(arr, j, j-1)\n",
    "                swapped = True\n",
    "    return arr\n",
    "\n",
    "print(bubble_sort([5, 2, 4, 6, 1, 3]))\n",
    "print(bubble_sort_flag([5, 2, 4, 6, 1, 3]))\n"
   ]
  },
  {
   "cell_type": "code",
   "execution_count": 32,
   "metadata": {},
   "outputs": [
    {
     "name": "stdout",
     "output_type": "stream",
     "text": [
      "runs: 5\n",
      "2\n",
      "runs: 4\n",
      "2\n"
     ]
    }
   ],
   "source": [
    "# GCD without euclidean\n",
    "# G Common deriviative\n",
    "def gcd(x, y):\n",
    "    runs = 0\n",
    "    min = x if x < y else y\n",
    "    for i in range(min // 2, 1, -1):\n",
    "        runs += 1\n",
    "        if (x % i == 0 and y % i == 0):\n",
    "            print(f\"runs: {runs}\")\n",
    "            return i\n",
    "    print(f\"runs: {runs}\")\n",
    "    return 1\n",
    "\n",
    "\n",
    "runs = 0\n",
    "# euclidean algorithm\n",
    "def euclidean_gcd(a, b):\n",
    "    global runs\n",
    "    if b == 0:\n",
    "        print(f\"runs: {runs}\")\n",
    "        return a\n",
    "    else:\n",
    "        runs += 1\n",
    "        return euclidean_gcd(b, a % b)\n",
    "\n",
    "print(gcd(12, 58))\n",
    "print(euclidean_gcd(12, 58))\n"
   ]
  },
  {
   "cell_type": "code",
   "execution_count": null,
   "metadata": {},
   "outputs": [],
   "source": []
  }
 ],
 "metadata": {
  "interpreter": {
   "hash": "b3ba2566441a7c06988d0923437866b63cedc61552a5af99d1f4fb67d367b25f"
  },
  "kernelspec": {
   "display_name": "Python 3.9.7 64-bit ('base': conda)",
   "language": "python",
   "name": "python3"
  },
  "language_info": {
   "codemirror_mode": {
    "name": "ipython",
    "version": 3
   },
   "file_extension": ".py",
   "mimetype": "text/x-python",
   "name": "python",
   "nbconvert_exporter": "python",
   "pygments_lexer": "ipython3",
   "version": "3.9.7"
  },
  "orig_nbformat": 4
 },
 "nbformat": 4,
 "nbformat_minor": 2
}
