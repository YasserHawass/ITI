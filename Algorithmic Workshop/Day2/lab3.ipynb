{
 "cells": [
  {
   "cell_type": "code",
   "execution_count": 1,
   "metadata": {},
   "outputs": [
    {
     "name": "stdout",
     "output_type": "stream",
     "text": [
      "[1, 2, 5, 7, 20, 3, 4, 6, 8, 10]\n",
      "[1, 2, 5, 7, 20]\n",
      "[1, 2]\n",
      "[1]\n",
      "[2]\n",
      "[5, 7, 20]\n",
      "[5]\n",
      "[7, 20]\n",
      "[7]\n",
      "[20]\n",
      "[3, 4, 6, 8, 10]\n",
      "[3, 4]\n",
      "[3]\n",
      "[4]\n",
      "[6, 8, 10]\n",
      "[6]\n",
      "[8, 10]\n",
      "[8]\n",
      "[10]\n",
      "[1, 2, 3, 4, 5, 6, 7, 8, 10, 20]\n"
     ]
    }
   ],
   "source": [
    "# Merge Sort(Answer the question-->Correct Simulation is in Dance or Animation)\n",
    "# Merge Sort is a Divide and Conquer algorithm. It divides input array in two halves, calls itself for the two halves and then merges the two sorted halves.\n",
    "# Time Complexity: O(nLogn)\n",
    "# Space Complexity: O(n)\n",
    "def mergeSort(input):\n",
    "    print(input)\n",
    "    # split list into halves\n",
    "    if len(input) > 1:\n",
    "        mid = len(input) // 2\n",
    "        left = input[:mid]\n",
    "        right = input[mid:]\n",
    "\n",
    "        # recursively sort left and right halves\n",
    "        mergeSort(left)\n",
    "        mergeSort(right)\n",
    "    # merge sorted lists\n",
    "        i = 0\n",
    "        j = 0\n",
    "        k = 0\n",
    "        while i < len(left) and j < len(right):\n",
    "            key = left[i]\n",
    "            if key < right[j]:\n",
    "                input[k] = key\n",
    "                i += 1\n",
    "            else:\n",
    "                input[k] = right[j]\n",
    "                j += 1\n",
    "            k += 1\n",
    "        while i < len(left):\n",
    "            input[k] = left[i]\n",
    "            i += 1\n",
    "            k += 1\n",
    "        while j < len(right):\n",
    "            input[k] = right[j]\n",
    "            j += 1\n",
    "            k += 1\n",
    "    \n",
    "    return input\n",
    "print(mergeSort([1,2,5,7,20,3,4,6,8,10]))\n",
    "                "
   ]
  },
  {
   "cell_type": "code",
   "execution_count": 2,
   "metadata": {},
   "outputs": [],
   "source": [
    "# from the above debug, we see that merge sort looks like the youtube video"
   ]
  },
  {
   "cell_type": "code",
   "execution_count": 3,
   "metadata": {},
   "outputs": [
    {
     "name": "stdout",
     "output_type": "stream",
     "text": [
      "840\n"
     ]
    }
   ],
   "source": [
    "# Standard Multiplication function\n",
    "def multiply(a, b):\n",
    "    if b == 0:\n",
    "        return 0\n",
    "    if b == 1:\n",
    "        return a\n",
    "    if b % 2 == 0:\n",
    "        return multiply(a + a, b // 2)\n",
    "    else:\n",
    "        return a + multiply(a + a, b // 2)\n",
    "\n",
    "print(multiply(15,56))"
   ]
  },
  {
   "cell_type": "code",
   "execution_count": 4,
   "metadata": {},
   "outputs": [
    {
     "name": "stdout",
     "output_type": "stream",
     "text": [
      "840\n"
     ]
    }
   ],
   "source": [
    "# Karatsuba Multiplication function\n",
    "# karatusba split function\n",
    "def split(n):\n",
    "    if n < 10:\n",
    "        return n\n",
    "    else:\n",
    "        return split(n // 10) * 10 , n % 10\n",
    "\n",
    "def karatsuba(x, y):\n",
    "    # recursive call if number length is more than 2\n",
    "    if len(str(x)) <= 2 or len(str(y)) <= 2:\n",
    "        if x <= 10 or y <= 10:\n",
    "            return x * y\n",
    "        else:\n",
    "            a = split(x)[0]\n",
    "            b = split(x)[1]\n",
    "            c = split(y)[0]\n",
    "            d = split(y)[1]\n",
    "            ac = karatsuba(a, c)\n",
    "            bd = karatsuba(b, d)\n",
    "            ad_bc = (a + b) * (c + d) - ac - bd\n",
    "            return ac + ad_bc + bd\n",
    "print(karatsuba(15, 56))"
   ]
  },
  {
   "cell_type": "code",
   "execution_count": null,
   "metadata": {},
   "outputs": [],
   "source": []
  }
 ],
 "metadata": {
  "interpreter": {
   "hash": "ed153983524b4d10ea15562eb676cef75ed842de7f708afb611bd9e3a0b1e607"
  },
  "kernelspec": {
   "display_name": "Python 3 (ipykernel)",
   "language": "python",
   "name": "python3"
  },
  "language_info": {
   "codemirror_mode": {
    "name": "ipython",
    "version": 3
   },
   "file_extension": ".py",
   "mimetype": "text/x-python",
   "name": "python",
   "nbconvert_exporter": "python",
   "pygments_lexer": "ipython3",
   "version": "3.9.7"
  }
 },
 "nbformat": 4,
 "nbformat_minor": 2
}
