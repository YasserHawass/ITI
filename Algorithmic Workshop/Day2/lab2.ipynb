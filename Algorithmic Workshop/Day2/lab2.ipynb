{
 "cells": [
  {
   "cell_type": "code",
   "execution_count": 1,
   "metadata": {},
   "outputs": [
    {
     "name": "stdout",
     "output_type": "stream",
     "text": [
      "[5, 2, 1]\n"
     ]
    }
   ],
   "source": [
    "# Money Change Problem (Greedy-Optimal) . Greedy solution\n",
    "# coins: list of coins to use\n",
    "# money: amount of money to change\n",
    "# there's an infinite iteration bug here if didn't input 1, could be fixed with a threshold of iterations.\n",
    "def greedy_change(money, coins):\n",
    "    coins.sort(reverse=True)\n",
    "    change = []\n",
    "    while money > 0:\n",
    "        for coin in coins:\n",
    "            if money >= coin:\n",
    "                change.append(coin)\n",
    "                money -= coin\n",
    "                break\n",
    "    # return list of coins used to make change\n",
    "    return change\n",
    "\n",
    "print(greedy_change(8, [1, 2, 5]))"
   ]
  },
  {
   "cell_type": "code",
   "execution_count": 2,
   "metadata": {},
   "outputs": [
    {
     "name": "stdout",
     "output_type": "stream",
     "text": [
      "[5, 5]\n"
     ]
    }
   ],
   "source": [
    "# Money Change Problem with brute force (Brute force solution)\n",
    "# coins: list of coins to use\n",
    "# money: amount of money to change\n",
    "\n",
    "def brute_force_change(money, coins):\n",
    "    # create list of all possible combinations of coins\n",
    "    combinations = []\n",
    "    for i in range(len(coins)):\n",
    "        for j in range(money // coins[i] + 1):\n",
    "            combinations.append([coins[i]] *j )\n",
    "    # print(combinations) \n",
    "    # sort combinations by sum of coins\n",
    "    combinations = sorted(combinations, key=sum)\n",
    "    # return list of coins used to make change\n",
    "    return combinations[-1]\n",
    "print(brute_force_change(10, [2, 3, 5]))"
   ]
  },
  {
   "cell_type": "code",
   "execution_count": 3,
   "metadata": {},
   "outputs": [
    {
     "name": "stdout",
     "output_type": "stream",
     "text": [
      "[10, 10, 1, 1, 1, 1]\n",
      "[8, 8, 8]\n"
     ]
    }
   ],
   "source": [
    "# Counter argument That optimal = greedy solution\n",
    "print(greedy_change(24, [1, 8, 10]))\n",
    "print(brute_force_change(24, [1, 8, 10]))"
   ]
  },
  {
   "cell_type": "code",
   "execution_count": 4,
   "metadata": {},
   "outputs": [
    {
     "name": "stdout",
     "output_type": "stream",
     "text": [
      "[[3.3333333333333335, 10, 3], [3.2, 16, 5], [3.0, 6, 2], [1.0, 1, 1]]\n",
      "17.88888888888889\n"
     ]
    }
   ],
   "source": [
    "# Fraction Knapsack Problem (Greedy)  solution\n",
    "# knapsack function\n",
    "def knapsack_greedy(value, weight, max_weight):\n",
    "    # sort items by value/weight ratio\n",
    "    items = [[value/weight,value,weight] for value,weight in zip(value, weight)]\n",
    "    items.sort(reverse=True)\n",
    "    print(items)\n",
    "    # initialize knapsack \n",
    "    knapsack = {}\n",
    "    # loop throught items and put as much possible of each item in the knapsack\n",
    "    for item in items:\n",
    "        # check if you can put item as a whole in the knapsack and increment it's count if you can\n",
    "        # if item[2] <= max_weight:\n",
    "        #     if item[1] not in knapsack:\n",
    "        #         knapsack[item[1]] = 1\n",
    "        #     else:\n",
    "        #         knapsack[item[1]] += 1\n",
    "        #     max_weight -= item[2]\n",
    "            # continue\n",
    "        # if you can't put item as a whole in the knapsack, put as much as you can\n",
    "        # if item[2] > max_weight:\n",
    "        while item[2] <= max_weight:\n",
    "            if item[2] not in knapsack:\n",
    "                knapsack[item[2]] = max_weight/item[2]\n",
    "            else:\n",
    "                knapsack[item[2]] += max_weight/item[2]\n",
    "            max_weight -= max_weight/item[2]\n",
    "    # print(knapsack)\n",
    "    # print(sum(knapsack.values()))\n",
    "\n",
    "    profits = 0\n",
    "    for key in knapsack:\n",
    "        profits += knapsack[key] * key\n",
    "    return profits\n",
    "    \n",
    "\n",
    "print(knapsack_greedy([1, 6, 10, 16], [1, 2, 3, 5], 7))\n",
    "\n"
   ]
  },
  {
   "cell_type": "code",
   "execution_count": 5,
   "metadata": {},
   "outputs": [
    {
     "name": "stdout",
     "output_type": "stream",
     "text": [
      "22\n"
     ]
    }
   ],
   "source": [
    "# Fraction Knapsack Problem optimal solution\n",
    "# knapsack function\n",
    "# by comparing all possible combinations of items, we can find the optimal solution\n",
    "def knapsack(value, weight, max_weight):\n",
    "    return knapsack_recursive(value, weight, max_weight, 0)\n",
    "\n",
    "def knapsack_recursive(value, weight, max_weight, index):\n",
    "    # base case\n",
    "    if max_weight <= 0 or index >= len(value):\n",
    "        return 0\n",
    "    profit1 = 0\n",
    "    if weight[index] <= max_weight:\n",
    "        profit1 = value[index] + knapsack_recursive(value, weight, max_weight - weight[index], index + 1)\n",
    "    \n",
    "    # recursive call after excluding the element at the currentIndex\n",
    "    profit2 = knapsack_recursive(value, weight, max_weight, index + 1)\n",
    "\n",
    "    return max(profit1, profit2)\n",
    "\n",
    "\n",
    "print(knapsack([1, 6, 10, 16], [1, 2, 3, 5], 7))\n",
    "\n",
    "\n",
    "    "
   ]
  },
  {
   "cell_type": "code",
   "execution_count": 6,
   "metadata": {},
   "outputs": [],
   "source": [
    "# optimal is not greedy, although it's recursive, it outputs better solution\n"
   ]
  },
  {
   "cell_type": "code",
   "execution_count": 7,
   "metadata": {},
   "outputs": [
    {
     "name": "stdout",
     "output_type": "stream",
     "text": [
      "[[3.3333333333333335, 10, 3], [3.2, 16, 5], [3.0, 6, 2], [1.0, 1, 1]]\n",
      "{10: 2, 1: 1}\n",
      "21\n"
     ]
    }
   ],
   "source": [
    "# 0-1Knapsack Problem (Greedy) Greedy solution\n",
    "def knapsack_greedy_01(value, weight, max_weight):\n",
    "    # sort items by value/weight ratio\n",
    "    items = [[value/weight,value,weight] for value,weight in zip(value, weight)]\n",
    "    items.sort(reverse=True)\n",
    "    print(items)\n",
    "    # initialize knapsack \n",
    "    knapsack = {}\n",
    "    # loop throught items and put as much possible of each item in the knapsack\n",
    "    for item in items:\n",
    "        # check how much of item you can put in the knapsack\n",
    "        while item[2] <= max_weight:\n",
    "            if item[1] not in knapsack:\n",
    "                knapsack[item[1]] = 1\n",
    "            else:\n",
    "                knapsack[item[1]] += 1\n",
    "            max_weight -= item[2]\n",
    "            \n",
    "            # continue\n",
    "    print(knapsack)\n",
    "    # print(sum(knapsack.values()))\n",
    "\n",
    "    profits = 0\n",
    "    for key in knapsack:\n",
    "        profits += knapsack[key] * key\n",
    "    return profits\n",
    "    \n",
    "\n",
    "print(knapsack_greedy_01([1, 6, 10, 16], [1, 2, 3, 5], 7))"
   ]
  },
  {
   "cell_type": "code",
   "execution_count": 8,
   "metadata": {},
   "outputs": [
    {
     "name": "stdout",
     "output_type": "stream",
     "text": [
      "22\n"
     ]
    }
   ],
   "source": [
    "# 0-1Knapsack Problem (optimal) optimal solution\n",
    "def knapsack_optimal_01(value, weight, max_weight, index):\n",
    "    # base case\n",
    "    if max_weight <= 0 or index >= len(value):\n",
    "        return 0\n",
    "    profit1 = 0\n",
    "    if weight[index] <= max_weight:\n",
    "        profit1 = value[index] + knapsack_optimal_01(value, weight, max_weight - weight[index], index + 1)\n",
    "    # print(profit1)\n",
    "    # recursive call after excluding the element at the currentIndex\n",
    "    profit2 = knapsack_optimal_01(value, weight, max_weight, index + 1)\n",
    "    # print(profit2)\n",
    "    return max(profit1, profit2)\n",
    "print(knapsack_optimal_01([1, 6, 10, 16], [1, 2, 3, 5], 7, 0))"
   ]
  },
  {
   "cell_type": "code",
   "execution_count": null,
   "metadata": {},
   "outputs": [],
   "source": []
  },
  {
   "cell_type": "code",
   "execution_count": null,
   "metadata": {},
   "outputs": [],
   "source": [
    "\n"
   ]
  }
 ],
 "metadata": {
  "interpreter": {
   "hash": "ed153983524b4d10ea15562eb676cef75ed842de7f708afb611bd9e3a0b1e607"
  },
  "kernelspec": {
   "display_name": "Python 3 (ipykernel)",
   "language": "python",
   "name": "python3"
  },
  "language_info": {
   "codemirror_mode": {
    "name": "ipython",
    "version": 3
   },
   "file_extension": ".py",
   "mimetype": "text/x-python",
   "name": "python",
   "nbconvert_exporter": "python",
   "pygments_lexer": "ipython3",
   "version": "3.9.7"
  }
 },
 "nbformat": 4,
 "nbformat_minor": 2
}
