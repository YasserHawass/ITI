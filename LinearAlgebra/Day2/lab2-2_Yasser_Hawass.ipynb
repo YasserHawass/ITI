{
 "cells": [
  {
   "cell_type": "markdown",
   "metadata": {},
   "source": [
    "1. Implement the function S = IsSquare(A) that checks the dimension of input matrix A, and returns 1 if the input matrix is square and 0 otherwise"
   ]
  },
  {
   "cell_type": "code",
   "execution_count": 2,
   "metadata": {},
   "outputs": [
    {
     "name": "stdout",
     "output_type": "stream",
     "text": [
      "0\n",
      "1\n"
     ]
    }
   ],
   "source": [
    "import numpy as np\n",
    "\n",
    "def isSquare(A):\n",
    "    if A.shape[0] == A.shape[1]:\n",
    "        return 1\n",
    "    else:\n",
    "        return 0\n",
    "\n",
    "x = np.array([[1,2,3],[4,5,6]])\n",
    "y = np.array([[1,2],[3,4]])\n",
    "print(isSquare(x))\n",
    "print(isSquare(y))"
   ]
  },
  {
   "cell_type": "markdown",
   "metadata": {},
   "source": [
    "2. Implement the function N = Props(A) that checks the properties of the input matrix A:\n",
    " 2.1 checks the input matrix is square,\n",
    " 2.2 computes the matrix rank, prints the rank value (hint: use numpy method)\n",
    " 2.3 computes the matrix determinant (hint: use numpy method) and prints its value\n",
    " 2.4 returns 1 if the input matrix has rank = no. of rows in matrix A and 0 otherwise"
   ]
  },
  {
   "cell_type": "code",
   "execution_count": 3,
   "metadata": {},
   "outputs": [
    {
     "name": "stdout",
     "output_type": "stream",
     "text": [
      "The input matrix is not square.\n",
      "The rank of the input matrix is:  2\n",
      "The determinant of the input matrix is:  Not applicable.\n",
      "The input matrix has rank = no. of rows in matrix A.\n"
     ]
    }
   ],
   "source": [
    "# Implement the function N = Props(A) that checks the properties of the input matrix A:\n",
    "def Props(A):\n",
    "    #  2.1 checks the input matrix is square,\n",
    "    if isSquare(A) == 1:\n",
    "        print(\"The input matrix is square.\")\n",
    "    else:\n",
    "        print(\"The input matrix is not square.\")\n",
    "    #  2.2 computes the matrix rank, prints the rank value (hint: use numpy method)\n",
    "    print(\"The rank of the input matrix is: \", np.linalg.matrix_rank(A))\n",
    "    #  2.3 computes the matrix determinant (hint: use numpy method) and prints its value\n",
    "    if(isSquare(A) == 1):\n",
    "        print(\"The determinant of the input matrix is: \", np.linalg.det(A))\n",
    "    else:\n",
    "        print(\"The determinant of the input matrix is: \", \"Not applicable.\")\n",
    "    #  2.4 returns 1 if the input matrix has rank = no. of rows in matrix A and 0 otherwise\n",
    "    if np.linalg.matrix_rank(A) == A.shape[0]:\n",
    "        print(\"The input matrix has rank = no. of rows in matrix A.\")\n",
    "    else:\n",
    "        print(\"The input matrix has rank < no. of rows in matrix A.\")\n",
    "\n",
    "Props(x)\n"
   ]
  },
  {
   "cell_type": "markdown",
   "metadata": {},
   "source": [
    "Compose the equations corresponding to the two word-problems below and put\n",
    "them in matrix-vector form AX = B. Call \"Props\" to find more about their properties."
   ]
  },
  {
   "cell_type": "code",
   "execution_count": 4,
   "metadata": {},
   "outputs": [
    {
     "name": "stdout",
     "output_type": "stream",
     "text": [
      "The input matrix is square.\n",
      "The rank of the input matrix is:  3\n",
      "The determinant of the input matrix is:  5.35\n",
      "The input matrix has rank = no. of rows in matrix A.\n",
      "\n",
      "The input matrix is square.\n",
      "The rank of the input matrix is:  2\n",
      "The determinant of the input matrix is:  0.0\n",
      "The input matrix has rank < no. of rows in matrix A.\n"
     ]
    }
   ],
   "source": [
    "A1 = np.array([[1,1,1],[1.5,5.75,2.6], [0,-1,1]])\n",
    "A2 = np.array([[2,1,3],[4,2,6],[1,1,-1]])\n",
    "Props(A1)\n",
    "print()\n",
    "Props(A2)"
   ]
  },
  {
   "cell_type": "markdown",
   "metadata": {},
   "source": [
    "4. Implement the function reducerow(C,pivotrow,targetrow,pivot)\n",
    " 4.1 Takes an input matrix C, index of a pivot row vector, index of a target row vector,\n",
    "index of a pivot element. It returns nothing but overrides the matrix C\n",
    " 4.2 Checks if the pivot element = 1 otherwise perform vector operation to make it = 1\n",
    " 4.3 Uses vector operations using the two vectors “pivotrow” & “targetrow” to make\n",
    "the element corresponding to the pivot element in the targetrow vector = 0"
   ]
  },
  {
   "cell_type": "code",
   "execution_count": 5,
   "metadata": {},
   "outputs": [
    {
     "name": "stdout",
     "output_type": "stream",
     "text": [
      "[[7 2 3]\n",
      " [4 5 6]\n",
      " [7 8 9]]\n",
      "[[  3   1   1]\n",
      " [-11   0   1]\n",
      " [  7   8   9]]\n"
     ]
    }
   ],
   "source": [
    "# Implement the function reducerow(C,pivotrow,targetrow,pivot)\n",
    "def reducerow(C,pivotrow,targetrow,pivot):\n",
    "    if C[pivotrow,pivot]!=1:\n",
    "        C[pivotrow,:]=C[pivotrow,:]/C[pivotrow][pivot]\n",
    "    C[targetrow,:]=C[targetrow,:]-C[targetrow,pivot]*C[pivotrow,:]\n",
    "    return C\n",
    "\n",
    "# # make numpy array 3x3\n",
    "A = np.array([[7,2,3],[4,5,6],[7,8,9]])\n",
    "print(A)\n",
    "reducerow(A,0,1,1)\n",
    "print(A)\n"
   ]
  },
  {
   "cell_type": "markdown",
   "metadata": {},
   "source": [
    "5. Implement the function f = SolveLinearSystem (A,B)\n",
    " 5.1 Takes as an input coefficient matrix A and target vector B\n",
    " 5.2 Adjoins A and B then perform row reduction operations using “reducerow” trying\n",
    "to convert it A’s columns into an identity matrix\n",
    " 5.3 returns f = the summation of A’s columns elements after row reduction"
   ]
  },
  {
   "cell_type": "code",
   "execution_count": 6,
   "metadata": {},
   "outputs": [],
   "source": [
    "# Implement the function f = SolveLinearSystem (A,B) Takes as an input coefficient matrix A and target vector B\n",
    "# def solveLinearSystem(A,B):\n",
    "#     #  3.1 check if the input matrix is square\n",
    "#     if isSquare(A) == 1:\n",
    "#         #  3.2 check if the rank of the input matrix is equal to the number of rows in the matrix A\n",
    "#         if np.linalg.matrix_rank(A) == A.shape[0]:\n",
    "#             #  3.3 check if the determinant of the input matrix is not equal to zero\n",
    "#             if np.linalg.det(A) != 0:\n",
    "#                 #  3.4 compute the solution vector f\n",
    "#                 f = np.linalg.solve(A,B)\n",
    "#                 return f\n",
    "#             else:\n",
    "#                 print(\"The determinant of the input matrix is zero.\")\n",
    "#         else:\n",
    "#             print(\"The rank of the input matrix is not equal to the number of rows in the matrix A.\")\n",
    "#     else:\n",
    "#         print(\"The input matrix is not square.\")"
   ]
  },
  {
   "cell_type": "code",
   "execution_count": 7,
   "metadata": {},
   "outputs": [
    {
     "data": {
      "text/plain": [
       "(array([[ 1,  0,  0,  2],\n",
       "        [ 0,  1,  0, -1],\n",
       "        [ 0,  0,  1,  2]]),\n",
       " 3.0)"
      ]
     },
     "execution_count": 7,
     "metadata": {},
     "output_type": "execute_result"
    }
   ],
   "source": [
    "# 5.1 Takes as an input coefficient matrix A and target vector B\n",
    "def solveLinearSystem(A, B):\n",
    "    # 5.2 Adjoins A and B then perform row reduction operations using “reducerow” trying to convert it A’s columns into an identity matrix\n",
    "    C = np.concatenate((A,B),axis=1)\n",
    "    # 5.3 Computes the inverse of A using the reduced matrix C\n",
    "    # 5.3 returns f = the summation of A’s columns elements after row reduction\n",
    "    for i in range(A.shape[0]):\n",
    "        for j in range(B.shape[0]):\n",
    "            if i!=j:\n",
    "                C = reducerow(C,i,j,i)\n",
    "    # returns f = the summation of A’s columns elements after row reduction\n",
    "    f = np.zeros(A.shape[0])\n",
    "    \n",
    "    # print(C[:,0])\n",
    "    for i in range(A.shape[0]):\n",
    "        f[i] = np.sum(C[:,i], axis=0)\n",
    "    f = f.sum()\n",
    "    # f = np.sum(C[:,:A.shape[0]])\n",
    "    return C, f\n",
    "\n",
    "# coefficient matrix\n",
    "A = np.array([[2,0,-6],[0,1,2],[3,6,-2]])\n",
    "# target vector\n",
    "B = np.array([[-8],[3],[-4]])\n",
    "solveLinearSystem(A,B)\n"
   ]
  },
  {
   "cell_type": "markdown",
   "metadata": {},
   "source": [
    "6. Call “SolveLinearSystem” to solve the systems 1 and 2 you previously created in 3"
   ]
  },
  {
   "cell_type": "code",
   "execution_count": 8,
   "metadata": {},
   "outputs": [
    {
     "data": {
      "text/plain": [
       "(array([[ 1.,  0.,  0., 80.],\n",
       "        [ 0.,  1.,  0., 50.],\n",
       "        [ 0.,  0.,  1., 70.]]),\n",
       " 3.0)"
      ]
     },
     "execution_count": 8,
     "metadata": {},
     "output_type": "execute_result"
    }
   ],
   "source": [
    "# 6. Call “SolveLinearSystem” to solve the systems 1 and 2 you previously created in 3\n",
    "# Compose the equations corresponding to the two word-problems below and put\n",
    "# them in matrix-vector form AX = B. Call \"Props\" to find more about their properties.\n",
    "# System 1:\n",
    "# A wedding planner ordered 200 flowers for tables decorations.\n",
    "# He ordered sunflowers at $1.50 each, roses at $5.75 each and daisies at $2.60 each.\n",
    "# He ordered mostly sunflowers and 20 fewer roses than daisies.\n",
    "# The total order came to $589.5. How many of each type of flower was ordered?\n",
    "\n",
    "A1 = np.array([[1,1,1],[1.5,5.75,2.6], [0,-1,1]])\n",
    "B1 = np.array([[200],[589.5],[20]])\n",
    "\n",
    "solveLinearSystem(A1,B1)\n"
   ]
  },
  {
   "cell_type": "code",
   "execution_count": 12,
   "metadata": {},
   "outputs": [
    {
     "ename": "ValueError",
     "evalue": "all the input arrays must have same number of dimensions, but the array at index 0 has 2 dimension(s) and the array at index 1 has 1 dimension(s)",
     "output_type": "error",
     "traceback": [
      "\u001b[1;31m---------------------------------------------------------------------------\u001b[0m",
      "\u001b[1;31mValueError\u001b[0m                                Traceback (most recent call last)",
      "\u001b[1;32mC:\\Users\\Public\\Documents\\Wondershare\\CreatorTemp/ipykernel_27164/211018908.py\u001b[0m in \u001b[0;36m<module>\u001b[1;34m\u001b[0m\n\u001b[0;32m      9\u001b[0m \u001b[0mA2\u001b[0m \u001b[1;33m=\u001b[0m \u001b[0mnp\u001b[0m\u001b[1;33m.\u001b[0m\u001b[0marray\u001b[0m\u001b[1;33m(\u001b[0m\u001b[1;33m[\u001b[0m\u001b[1;33m[\u001b[0m\u001b[1;36m2\u001b[0m\u001b[1;33m,\u001b[0m\u001b[1;36m1\u001b[0m\u001b[1;33m,\u001b[0m\u001b[1;36m3\u001b[0m\u001b[1;33m]\u001b[0m\u001b[1;33m,\u001b[0m\u001b[1;33m[\u001b[0m\u001b[1;36m4\u001b[0m\u001b[1;33m,\u001b[0m\u001b[1;36m2\u001b[0m\u001b[1;33m,\u001b[0m\u001b[1;36m6\u001b[0m\u001b[1;33m]\u001b[0m\u001b[1;33m,\u001b[0m\u001b[1;33m[\u001b[0m\u001b[1;36m1\u001b[0m\u001b[1;33m,\u001b[0m\u001b[1;36m1\u001b[0m\u001b[1;33m,\u001b[0m\u001b[1;33m-\u001b[0m\u001b[1;36m1\u001b[0m\u001b[1;33m]\u001b[0m\u001b[1;33m]\u001b[0m\u001b[1;33m)\u001b[0m\u001b[1;33m\u001b[0m\u001b[1;33m\u001b[0m\u001b[0m\n\u001b[0;32m     10\u001b[0m \u001b[0mB2\u001b[0m \u001b[1;33m=\u001b[0m \u001b[0mnp\u001b[0m\u001b[1;33m.\u001b[0m\u001b[0marray\u001b[0m\u001b[1;33m(\u001b[0m\u001b[1;33m[\u001b[0m\u001b[1;36m0\u001b[0m\u001b[1;33m,\u001b[0m\u001b[1;36m0\u001b[0m\u001b[1;33m,\u001b[0m\u001b[1;36m0\u001b[0m\u001b[1;33m]\u001b[0m\u001b[1;33m)\u001b[0m\u001b[1;33m\u001b[0m\u001b[1;33m\u001b[0m\u001b[0m\n\u001b[1;32m---> 11\u001b[1;33m \u001b[0msolveLinearSystem\u001b[0m\u001b[1;33m(\u001b[0m\u001b[0mA2\u001b[0m\u001b[1;33m,\u001b[0m\u001b[0mB2\u001b[0m\u001b[1;33m)\u001b[0m\u001b[1;33m\u001b[0m\u001b[1;33m\u001b[0m\u001b[0m\n\u001b[0m",
      "\u001b[1;32mC:\\Users\\Public\\Documents\\Wondershare\\CreatorTemp/ipykernel_27164/415496135.py\u001b[0m in \u001b[0;36msolveLinearSystem\u001b[1;34m(A, B)\u001b[0m\n\u001b[0;32m      2\u001b[0m \u001b[1;32mdef\u001b[0m \u001b[0msolveLinearSystem\u001b[0m\u001b[1;33m(\u001b[0m\u001b[0mA\u001b[0m\u001b[1;33m,\u001b[0m \u001b[0mB\u001b[0m\u001b[1;33m)\u001b[0m\u001b[1;33m:\u001b[0m\u001b[1;33m\u001b[0m\u001b[1;33m\u001b[0m\u001b[0m\n\u001b[0;32m      3\u001b[0m     \u001b[1;31m# 5.2 Adjoins A and B then perform row reduction operations using “reducerow” trying to convert it A’s columns into an identity matrix\u001b[0m\u001b[1;33m\u001b[0m\u001b[1;33m\u001b[0m\u001b[0m\n\u001b[1;32m----> 4\u001b[1;33m     \u001b[0mC\u001b[0m \u001b[1;33m=\u001b[0m \u001b[0mnp\u001b[0m\u001b[1;33m.\u001b[0m\u001b[0mconcatenate\u001b[0m\u001b[1;33m(\u001b[0m\u001b[1;33m(\u001b[0m\u001b[0mA\u001b[0m\u001b[1;33m,\u001b[0m\u001b[0mB\u001b[0m\u001b[1;33m)\u001b[0m\u001b[1;33m,\u001b[0m\u001b[0maxis\u001b[0m\u001b[1;33m=\u001b[0m\u001b[1;36m1\u001b[0m\u001b[1;33m)\u001b[0m\u001b[1;33m\u001b[0m\u001b[1;33m\u001b[0m\u001b[0m\n\u001b[0m\u001b[0;32m      5\u001b[0m     \u001b[1;31m# 5.3 Computes the inverse of A using the reduced matrix C\u001b[0m\u001b[1;33m\u001b[0m\u001b[1;33m\u001b[0m\u001b[0m\n\u001b[0;32m      6\u001b[0m     \u001b[1;31m# 5.3 returns f = the summation of A’s columns elements after row reduction\u001b[0m\u001b[1;33m\u001b[0m\u001b[1;33m\u001b[0m\u001b[0m\n",
      "\u001b[1;32m<__array_function__ internals>\u001b[0m in \u001b[0;36mconcatenate\u001b[1;34m(*args, **kwargs)\u001b[0m\n",
      "\u001b[1;31mValueError\u001b[0m: all the input arrays must have same number of dimensions, but the array at index 0 has 2 dimension(s) and the array at index 1 has 1 dimension(s)"
     ]
    }
   ],
   "source": [
    "# System 2:\n",
    "# A food-cart owner regularly buys oil to fry the chicken and potatoes he sells.\n",
    "# Sometimes he doesn't sell well but he needs to keep buying oil anyways. In three consecutive days\n",
    "# he made zero profit. In the first day, he sold 2 packs of potatoes and 1 pack of chicken\n",
    "# but had to buy 3 bottles of oil. In the second day, he sold 4 packs of potatoes and 2 pack\n",
    "# of chicken but had to buy 6 bottles of oil. In the third day, he sold 1 pack of potatoes\n",
    "# and a friend gave him 1 bottle of oil and took 1 pack of chicken instead. What were the\n",
    "# prices of the chicken, potatoes and oil?\n",
    "A2 = np.array([[2,1,3],[4,2,6],[1,1,-1]])\n",
    "B2 = np.array([0,0,0])\n",
    "solveLinearSystem(A2,B2)"
   ]
  },
  {
   "cell_type": "markdown",
   "metadata": {},
   "source": [
    "Elaborate your solution (write commented text)\n",
    "    7.1 If f<3 explain the reason and propose one possible solution (if any) to the equation system\n",
    "    7.2 otherwise write down the system solution"
   ]
  },
  {
   "cell_type": "code",
   "execution_count": 9,
   "metadata": {},
   "outputs": [
    {
     "name": "stderr",
     "output_type": "stream",
     "text": [
      "C:\\Users\\Public\\Documents\\Wondershare\\CreatorTemp/ipykernel_27164/3972044671.py:4: RuntimeWarning: invalid value encountered in true_divide\n",
      "  C[pivotrow,:]=C[pivotrow,:]/C[pivotrow][pivot]\n"
     ]
    },
    {
     "data": {
      "text/plain": [
       "(array([[  1,   0,   0, 200],\n",
       "        [  0,   1,   0, 400],\n",
       "        [  1,   1,   1,   1]]),\n",
       " 5.0)"
      ]
     },
     "execution_count": 9,
     "metadata": {},
     "output_type": "execute_result"
    }
   ],
   "source": [
    "Ax = np.array([[1,0,0],[0,1,0], [0,0,0]])\n",
    "Bx = np.array([[200],[400],[0]])\n",
    "\n",
    "solveLinearSystem(Ax,Bx)\n",
    "# since the 2nd row is dependent on the first row, we get f = 5, which is the solution to the system\n",
    "# in System 1, f was 3 which meant an independent system of equations (since it was 3x3 matrix)\n",
    "# but in System 2, the rank of the input matrix is not equal to the number of rows in the matrix A2\n"
   ]
  },
  {
   "cell_type": "markdown",
   "metadata": {},
   "source": [
    "8. Type these code lines and check your answers for systems 1 and 2\n",
    "    x = np.linalg.solve(A, B) # Solves a full-rank system of linear equations ax = b.\n",
    "    print(x)\n",
    "    np.allclose(np.dot(A, x), B) # Returns True if two arrays are element-wise equal within a\n",
    "    tolerance."
   ]
  },
  {
   "cell_type": "code",
   "execution_count": 10,
   "metadata": {},
   "outputs": [
    {
     "name": "stdout",
     "output_type": "stream",
     "text": [
      "[[80.]\n",
      " [50.]\n",
      " [70.]]\n"
     ]
    },
    {
     "data": {
      "text/plain": [
       "True"
      ]
     },
     "execution_count": 10,
     "metadata": {},
     "output_type": "execute_result"
    }
   ],
   "source": [
    "x = np.linalg.solve(A1, B1) # Solves a full-rank system of linear equations ax = b.\n",
    "print(x)\n",
    "np.allclose(np.dot(A1, x), B1) # Returns True if two arrays are element-wise equal within a tolerance."
   ]
  },
  {
   "cell_type": "code",
   "execution_count": 13,
   "metadata": {},
   "outputs": [
    {
     "ename": "LinAlgError",
     "evalue": "Singular matrix",
     "output_type": "error",
     "traceback": [
      "\u001b[1;31m---------------------------------------------------------------------------\u001b[0m",
      "\u001b[1;31mLinAlgError\u001b[0m                               Traceback (most recent call last)",
      "\u001b[1;32mC:\\Users\\Public\\Documents\\Wondershare\\CreatorTemp/ipykernel_27164/1124789321.py\u001b[0m in \u001b[0;36m<module>\u001b[1;34m\u001b[0m\n\u001b[1;32m----> 1\u001b[1;33m \u001b[0mx\u001b[0m \u001b[1;33m=\u001b[0m \u001b[0mnp\u001b[0m\u001b[1;33m.\u001b[0m\u001b[0mlinalg\u001b[0m\u001b[1;33m.\u001b[0m\u001b[0msolve\u001b[0m\u001b[1;33m(\u001b[0m\u001b[0mA2\u001b[0m\u001b[1;33m,\u001b[0m \u001b[0mB2\u001b[0m\u001b[1;33m)\u001b[0m \u001b[1;31m# Solves a full-rank system of linear equations ax = b.\u001b[0m\u001b[1;33m\u001b[0m\u001b[1;33m\u001b[0m\u001b[0m\n\u001b[0m\u001b[0;32m      2\u001b[0m \u001b[0mprint\u001b[0m\u001b[1;33m(\u001b[0m\u001b[0mx\u001b[0m\u001b[1;33m)\u001b[0m\u001b[1;33m\u001b[0m\u001b[1;33m\u001b[0m\u001b[0m\n\u001b[0;32m      3\u001b[0m \u001b[0mnp\u001b[0m\u001b[1;33m.\u001b[0m\u001b[0mallclose\u001b[0m\u001b[1;33m(\u001b[0m\u001b[0mnp\u001b[0m\u001b[1;33m.\u001b[0m\u001b[0mdot\u001b[0m\u001b[1;33m(\u001b[0m\u001b[0mA2\u001b[0m\u001b[1;33m,\u001b[0m \u001b[0mx\u001b[0m\u001b[1;33m)\u001b[0m\u001b[1;33m,\u001b[0m \u001b[0mB2\u001b[0m\u001b[1;33m)\u001b[0m \u001b[1;31m# Returns True if two arrays are element-wise equal within a tolerance.\u001b[0m\u001b[1;33m\u001b[0m\u001b[1;33m\u001b[0m\u001b[0m\n",
      "\u001b[1;32m<__array_function__ internals>\u001b[0m in \u001b[0;36msolve\u001b[1;34m(*args, **kwargs)\u001b[0m\n",
      "\u001b[1;32mC:\\ProgramData\\Anaconda3\\lib\\site-packages\\numpy\\linalg\\linalg.py\u001b[0m in \u001b[0;36msolve\u001b[1;34m(a, b)\u001b[0m\n\u001b[0;32m    391\u001b[0m     \u001b[0msignature\u001b[0m \u001b[1;33m=\u001b[0m \u001b[1;34m'DD->D'\u001b[0m \u001b[1;32mif\u001b[0m \u001b[0misComplexType\u001b[0m\u001b[1;33m(\u001b[0m\u001b[0mt\u001b[0m\u001b[1;33m)\u001b[0m \u001b[1;32melse\u001b[0m \u001b[1;34m'dd->d'\u001b[0m\u001b[1;33m\u001b[0m\u001b[1;33m\u001b[0m\u001b[0m\n\u001b[0;32m    392\u001b[0m     \u001b[0mextobj\u001b[0m \u001b[1;33m=\u001b[0m \u001b[0mget_linalg_error_extobj\u001b[0m\u001b[1;33m(\u001b[0m\u001b[0m_raise_linalgerror_singular\u001b[0m\u001b[1;33m)\u001b[0m\u001b[1;33m\u001b[0m\u001b[1;33m\u001b[0m\u001b[0m\n\u001b[1;32m--> 393\u001b[1;33m     \u001b[0mr\u001b[0m \u001b[1;33m=\u001b[0m \u001b[0mgufunc\u001b[0m\u001b[1;33m(\u001b[0m\u001b[0ma\u001b[0m\u001b[1;33m,\u001b[0m \u001b[0mb\u001b[0m\u001b[1;33m,\u001b[0m \u001b[0msignature\u001b[0m\u001b[1;33m=\u001b[0m\u001b[0msignature\u001b[0m\u001b[1;33m,\u001b[0m \u001b[0mextobj\u001b[0m\u001b[1;33m=\u001b[0m\u001b[0mextobj\u001b[0m\u001b[1;33m)\u001b[0m\u001b[1;33m\u001b[0m\u001b[1;33m\u001b[0m\u001b[0m\n\u001b[0m\u001b[0;32m    394\u001b[0m \u001b[1;33m\u001b[0m\u001b[0m\n\u001b[0;32m    395\u001b[0m     \u001b[1;32mreturn\u001b[0m \u001b[0mwrap\u001b[0m\u001b[1;33m(\u001b[0m\u001b[0mr\u001b[0m\u001b[1;33m.\u001b[0m\u001b[0mastype\u001b[0m\u001b[1;33m(\u001b[0m\u001b[0mresult_t\u001b[0m\u001b[1;33m,\u001b[0m \u001b[0mcopy\u001b[0m\u001b[1;33m=\u001b[0m\u001b[1;32mFalse\u001b[0m\u001b[1;33m)\u001b[0m\u001b[1;33m)\u001b[0m\u001b[1;33m\u001b[0m\u001b[1;33m\u001b[0m\u001b[0m\n",
      "\u001b[1;32mC:\\ProgramData\\Anaconda3\\lib\\site-packages\\numpy\\linalg\\linalg.py\u001b[0m in \u001b[0;36m_raise_linalgerror_singular\u001b[1;34m(err, flag)\u001b[0m\n\u001b[0;32m     86\u001b[0m \u001b[1;33m\u001b[0m\u001b[0m\n\u001b[0;32m     87\u001b[0m \u001b[1;32mdef\u001b[0m \u001b[0m_raise_linalgerror_singular\u001b[0m\u001b[1;33m(\u001b[0m\u001b[0merr\u001b[0m\u001b[1;33m,\u001b[0m \u001b[0mflag\u001b[0m\u001b[1;33m)\u001b[0m\u001b[1;33m:\u001b[0m\u001b[1;33m\u001b[0m\u001b[1;33m\u001b[0m\u001b[0m\n\u001b[1;32m---> 88\u001b[1;33m     \u001b[1;32mraise\u001b[0m \u001b[0mLinAlgError\u001b[0m\u001b[1;33m(\u001b[0m\u001b[1;34m\"Singular matrix\"\u001b[0m\u001b[1;33m)\u001b[0m\u001b[1;33m\u001b[0m\u001b[1;33m\u001b[0m\u001b[0m\n\u001b[0m\u001b[0;32m     89\u001b[0m \u001b[1;33m\u001b[0m\u001b[0m\n\u001b[0;32m     90\u001b[0m \u001b[1;32mdef\u001b[0m \u001b[0m_raise_linalgerror_nonposdef\u001b[0m\u001b[1;33m(\u001b[0m\u001b[0merr\u001b[0m\u001b[1;33m,\u001b[0m \u001b[0mflag\u001b[0m\u001b[1;33m)\u001b[0m\u001b[1;33m:\u001b[0m\u001b[1;33m\u001b[0m\u001b[1;33m\u001b[0m\u001b[0m\n",
      "\u001b[1;31mLinAlgError\u001b[0m: Singular matrix"
     ]
    }
   ],
   "source": [
    "x = np.linalg.solve(A2, B2) # Solves a full-rank system of linear equations ax = b.\n",
    "print(x)\n",
    "np.allclose(np.dot(A2, x), B2) # Returns True if two arrays are element-wise equal within a tolerance."
   ]
  },
  {
   "cell_type": "markdown",
   "metadata": {},
   "source": [
    "9. Call the same function “SolveLinearSystem” to get inv(A) for systems 1 and 2"
   ]
  },
  {
   "cell_type": "code",
   "execution_count": 14,
   "metadata": {},
   "outputs": [
    {
     "data": {
      "text/plain": [
       "(array([[ 1.        ,  0.        ,  0.        ,  1.56074766, -0.37383178,\n",
       "         -0.58878505],\n",
       "        [ 0.        ,  1.        ,  0.        , -0.28037383,  0.18691589,\n",
       "         -0.20560748],\n",
       "        [ 0.        ,  0.        ,  1.        , -0.28037383,  0.18691589,\n",
       "          0.79439252]]),\n",
       " 3.0)"
      ]
     },
     "execution_count": 14,
     "metadata": {},
     "output_type": "execute_result"
    }
   ],
   "source": [
    "# Call the same function “SolveLinearSystem” to get inv(A) for systems 1 and 2\n",
    "# create identity matrix 3x3\n",
    "I = np.identity(3)\n",
    "\n",
    "solveLinearSystem(A1,I)"
   ]
  },
  {
   "cell_type": "markdown",
   "metadata": {},
   "source": [
    "10. Check your solution if possible using np.linalg.inv() function"
   ]
  },
  {
   "cell_type": "code",
   "execution_count": 15,
   "metadata": {},
   "outputs": [
    {
     "data": {
      "text/plain": [
       "array([[ 1.56074766, -0.37383178, -0.58878505],\n",
       "       [-0.28037383,  0.18691589, -0.20560748],\n",
       "       [-0.28037383,  0.18691589,  0.79439252]])"
      ]
     },
     "execution_count": 15,
     "metadata": {},
     "output_type": "execute_result"
    }
   ],
   "source": [
    "np.linalg.inv(A1) # Returns the inverse of a matrix."
   ]
  },
  {
   "cell_type": "code",
   "execution_count": 16,
   "metadata": {},
   "outputs": [
    {
     "ename": "LinAlgError",
     "evalue": "Singular matrix",
     "output_type": "error",
     "traceback": [
      "\u001b[1;31m---------------------------------------------------------------------------\u001b[0m",
      "\u001b[1;31mLinAlgError\u001b[0m                               Traceback (most recent call last)",
      "\u001b[1;32mC:\\Users\\Public\\Documents\\Wondershare\\CreatorTemp/ipykernel_27164/1787604696.py\u001b[0m in \u001b[0;36m<module>\u001b[1;34m\u001b[0m\n\u001b[1;32m----> 1\u001b[1;33m \u001b[0mnp\u001b[0m\u001b[1;33m.\u001b[0m\u001b[0mlinalg\u001b[0m\u001b[1;33m.\u001b[0m\u001b[0minv\u001b[0m\u001b[1;33m(\u001b[0m\u001b[0mA2\u001b[0m\u001b[1;33m)\u001b[0m \u001b[1;31m# Returns the inverse of a matrix.\u001b[0m\u001b[1;33m\u001b[0m\u001b[1;33m\u001b[0m\u001b[0m\n\u001b[0m",
      "\u001b[1;32m<__array_function__ internals>\u001b[0m in \u001b[0;36minv\u001b[1;34m(*args, **kwargs)\u001b[0m\n",
      "\u001b[1;32mC:\\ProgramData\\Anaconda3\\lib\\site-packages\\numpy\\linalg\\linalg.py\u001b[0m in \u001b[0;36minv\u001b[1;34m(a)\u001b[0m\n\u001b[0;32m    543\u001b[0m     \u001b[0msignature\u001b[0m \u001b[1;33m=\u001b[0m \u001b[1;34m'D->D'\u001b[0m \u001b[1;32mif\u001b[0m \u001b[0misComplexType\u001b[0m\u001b[1;33m(\u001b[0m\u001b[0mt\u001b[0m\u001b[1;33m)\u001b[0m \u001b[1;32melse\u001b[0m \u001b[1;34m'd->d'\u001b[0m\u001b[1;33m\u001b[0m\u001b[1;33m\u001b[0m\u001b[0m\n\u001b[0;32m    544\u001b[0m     \u001b[0mextobj\u001b[0m \u001b[1;33m=\u001b[0m \u001b[0mget_linalg_error_extobj\u001b[0m\u001b[1;33m(\u001b[0m\u001b[0m_raise_linalgerror_singular\u001b[0m\u001b[1;33m)\u001b[0m\u001b[1;33m\u001b[0m\u001b[1;33m\u001b[0m\u001b[0m\n\u001b[1;32m--> 545\u001b[1;33m     \u001b[0mainv\u001b[0m \u001b[1;33m=\u001b[0m \u001b[0m_umath_linalg\u001b[0m\u001b[1;33m.\u001b[0m\u001b[0minv\u001b[0m\u001b[1;33m(\u001b[0m\u001b[0ma\u001b[0m\u001b[1;33m,\u001b[0m \u001b[0msignature\u001b[0m\u001b[1;33m=\u001b[0m\u001b[0msignature\u001b[0m\u001b[1;33m,\u001b[0m \u001b[0mextobj\u001b[0m\u001b[1;33m=\u001b[0m\u001b[0mextobj\u001b[0m\u001b[1;33m)\u001b[0m\u001b[1;33m\u001b[0m\u001b[1;33m\u001b[0m\u001b[0m\n\u001b[0m\u001b[0;32m    546\u001b[0m     \u001b[1;32mreturn\u001b[0m \u001b[0mwrap\u001b[0m\u001b[1;33m(\u001b[0m\u001b[0mainv\u001b[0m\u001b[1;33m.\u001b[0m\u001b[0mastype\u001b[0m\u001b[1;33m(\u001b[0m\u001b[0mresult_t\u001b[0m\u001b[1;33m,\u001b[0m \u001b[0mcopy\u001b[0m\u001b[1;33m=\u001b[0m\u001b[1;32mFalse\u001b[0m\u001b[1;33m)\u001b[0m\u001b[1;33m)\u001b[0m\u001b[1;33m\u001b[0m\u001b[1;33m\u001b[0m\u001b[0m\n\u001b[0;32m    547\u001b[0m \u001b[1;33m\u001b[0m\u001b[0m\n",
      "\u001b[1;32mC:\\ProgramData\\Anaconda3\\lib\\site-packages\\numpy\\linalg\\linalg.py\u001b[0m in \u001b[0;36m_raise_linalgerror_singular\u001b[1;34m(err, flag)\u001b[0m\n\u001b[0;32m     86\u001b[0m \u001b[1;33m\u001b[0m\u001b[0m\n\u001b[0;32m     87\u001b[0m \u001b[1;32mdef\u001b[0m \u001b[0m_raise_linalgerror_singular\u001b[0m\u001b[1;33m(\u001b[0m\u001b[0merr\u001b[0m\u001b[1;33m,\u001b[0m \u001b[0mflag\u001b[0m\u001b[1;33m)\u001b[0m\u001b[1;33m:\u001b[0m\u001b[1;33m\u001b[0m\u001b[1;33m\u001b[0m\u001b[0m\n\u001b[1;32m---> 88\u001b[1;33m     \u001b[1;32mraise\u001b[0m \u001b[0mLinAlgError\u001b[0m\u001b[1;33m(\u001b[0m\u001b[1;34m\"Singular matrix\"\u001b[0m\u001b[1;33m)\u001b[0m\u001b[1;33m\u001b[0m\u001b[1;33m\u001b[0m\u001b[0m\n\u001b[0m\u001b[0;32m     89\u001b[0m \u001b[1;33m\u001b[0m\u001b[0m\n\u001b[0;32m     90\u001b[0m \u001b[1;32mdef\u001b[0m \u001b[0m_raise_linalgerror_nonposdef\u001b[0m\u001b[1;33m(\u001b[0m\u001b[0merr\u001b[0m\u001b[1;33m,\u001b[0m \u001b[0mflag\u001b[0m\u001b[1;33m)\u001b[0m\u001b[1;33m:\u001b[0m\u001b[1;33m\u001b[0m\u001b[1;33m\u001b[0m\u001b[0m\n",
      "\u001b[1;31mLinAlgError\u001b[0m: Singular matrix"
     ]
    }
   ],
   "source": [
    "np.linalg.inv(A2) # Returns the inverse of a matrix."
   ]
  },
  {
   "cell_type": "code",
   "execution_count": null,
   "metadata": {},
   "outputs": [],
   "source": []
  }
 ],
 "metadata": {
  "interpreter": {
   "hash": "b3ba2566441a7c06988d0923437866b63cedc61552a5af99d1f4fb67d367b25f"
  },
  "kernelspec": {
   "display_name": "Python 3 (ipykernel)",
   "language": "python",
   "name": "python3"
  },
  "language_info": {
   "codemirror_mode": {
    "name": "ipython",
    "version": 3
   },
   "file_extension": ".py",
   "mimetype": "text/x-python",
   "name": "python",
   "nbconvert_exporter": "python",
   "pygments_lexer": "ipython3",
   "version": "3.9.7"
  }
 },
 "nbformat": 4,
 "nbformat_minor": 2
}
