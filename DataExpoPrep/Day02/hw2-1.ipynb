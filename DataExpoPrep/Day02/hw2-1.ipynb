{
 "cells": [
  {
   "cell_type": "markdown",
   "id": "7814b4b3",
   "metadata": {},
   "source": [
    "# using Muslim Salat API\n",
    "##### the API provides current day prayer times, provided the name of the city in the GET request (e.g. /cairo.json)\n",
    "##### results come as a JSON, using json module, it can be dissasembled, and indexed to the required info, and then stored as csv row\n",
    "##### please note the varaiable fileEmpty needs to equal one in first run to initate the headers"
   ]
  },
  {
   "cell_type": "code",
   "execution_count": 1,
   "id": "81f5e3a6",
   "metadata": {},
   "outputs": [
    {
     "name": "stdout",
     "output_type": "stream",
     "text": [
      "Requirement already satisfied: selenium in c:\\programdata\\anaconda3\\lib\\site-packages (4.1.0)\n",
      "Requirement already satisfied: urllib3[secure]~=1.26 in c:\\programdata\\anaconda3\\lib\\site-packages (from selenium) (1.26.7)\n",
      "Requirement already satisfied: trio-websocket~=0.9 in c:\\programdata\\anaconda3\\lib\\site-packages (from selenium) (0.9.2)\n",
      "Requirement already satisfied: trio~=0.17 in c:\\programdata\\anaconda3\\lib\\site-packages (from selenium) (0.19.0)\n",
      "Requirement already satisfied: sniffio in c:\\programdata\\anaconda3\\lib\\site-packages (from trio~=0.17->selenium) (1.2.0)\n",
      "Requirement already satisfied: cffi>=1.14 in c:\\programdata\\anaconda3\\lib\\site-packages (from trio~=0.17->selenium) (1.14.6)\n",
      "Requirement already satisfied: attrs>=19.2.0 in c:\\programdata\\anaconda3\\lib\\site-packages (from trio~=0.17->selenium) (21.2.0)\n",
      "Requirement already satisfied: idna in c:\\programdata\\anaconda3\\lib\\site-packages (from trio~=0.17->selenium) (3.2)\n",
      "Requirement already satisfied: async-generator>=1.9 in c:\\programdata\\anaconda3\\lib\\site-packages (from trio~=0.17->selenium) (1.10)\n",
      "Requirement already satisfied: sortedcontainers in c:\\programdata\\anaconda3\\lib\\site-packages (from trio~=0.17->selenium) (2.4.0)\n",
      "Requirement already satisfied: outcome in c:\\programdata\\anaconda3\\lib\\site-packages (from trio~=0.17->selenium) (1.1.0)\n",
      "Requirement already satisfied: pycparser in c:\\programdata\\anaconda3\\lib\\site-packages (from cffi>=1.14->trio~=0.17->selenium) (2.20)\n",
      "Requirement already satisfied: wsproto>=0.14 in c:\\programdata\\anaconda3\\lib\\site-packages (from trio-websocket~=0.9->selenium) (1.0.0)\n",
      "Requirement already satisfied: pyOpenSSL>=0.14 in c:\\programdata\\anaconda3\\lib\\site-packages (from urllib3[secure]~=1.26->selenium) (21.0.0)\n",
      "Requirement already satisfied: cryptography>=1.3.4 in c:\\programdata\\anaconda3\\lib\\site-packages (from urllib3[secure]~=1.26->selenium) (3.4.8)\n",
      "Requirement already satisfied: certifi in c:\\programdata\\anaconda3\\lib\\site-packages (from urllib3[secure]~=1.26->selenium) (2021.10.8)\n",
      "Requirement already satisfied: six>=1.5.2 in c:\\programdata\\anaconda3\\lib\\site-packages (from pyOpenSSL>=0.14->urllib3[secure]~=1.26->selenium) (1.16.0)\n",
      "Requirement already satisfied: h11<1,>=0.9.0 in c:\\programdata\\anaconda3\\lib\\site-packages (from wsproto>=0.14->trio-websocket~=0.9->selenium) (0.12.0)\n"
     ]
    }
   ],
   "source": [
    "!pip install selenium"
   ]
  },
  {
   "cell_type": "code",
   "execution_count": 2,
   "id": "fcc5acb7",
   "metadata": {},
   "outputs": [],
   "source": [
    "import requests\n",
    "\n",
    "# change here\n",
    "url = \"https://muslimsalat.p.rapidapi.com/cairo.json\"\n",
    "#url = \"https://muslimsalat.p.rapidapi.com/damietta.json\"\n",
    "\n",
    "headers = {\n",
    "    'x-rapidapi-host': \"muslimsalat.p.rapidapi.com\",\n",
    "    'x-rapidapi-key': \"8fa45b2a9fmshc8f62f712753bdfp12822bjsncacb3fefe2aa\"\n",
    "    }\n",
    "\n",
    "response = requests.request(\"GET\", url, headers=headers)\n"
   ]
  },
  {
   "cell_type": "code",
   "execution_count": 5,
   "id": "03c2e1c4",
   "metadata": {},
   "outputs": [
    {
     "data": {
      "text/plain": [
       "{'title': '',\n",
       " 'query': 'cairo',\n",
       " 'for': 'daily',\n",
       " 'method': 1,\n",
       " 'prayer_method_name': 'Egyptian General Authority of Survey',\n",
       " 'daylight': '0',\n",
       " 'timezone': '2',\n",
       " 'map_image': 'https://maps.google.com/maps/api/staticmap?center=30.044420,31.235712&sensor=false&zoom=13&size=300x300',\n",
       " 'sealevel': '34',\n",
       " 'today_weather': {'pressure': '1015', 'temperature': '12'},\n",
       " 'link': 'http://muslimsalat.com/cairo',\n",
       " 'qibla_direction': '136.3',\n",
       " 'latitude': '30.044420',\n",
       " 'longitude': '31.235712',\n",
       " 'address': '',\n",
       " 'city': '',\n",
       " 'state': 'Cairo Governorate',\n",
       " 'postal_code': '',\n",
       " 'country': 'Egypt',\n",
       " 'country_code': 'EG',\n",
       " 'items': [{'date_for': '2022-1-2',\n",
       "   'fajr': '5:16 am',\n",
       "   'shurooq': '6:46 am',\n",
       "   'dhuhr': '11:59 am',\n",
       "   'asr': '2:48 pm',\n",
       "   'maghrib': '5:11 pm',\n",
       "   'isha': '6:31 pm'}],\n",
       " 'status_valid': 1,\n",
       " 'status_code': 1,\n",
       " 'status_description': 'Success.'}"
      ]
     },
     "execution_count": 5,
     "metadata": {},
     "output_type": "execute_result"
    }
   ],
   "source": [
    "response.json()"
   ]
  },
  {
   "cell_type": "code",
   "execution_count": 3,
   "id": "f8152034",
   "metadata": {},
   "outputs": [
    {
     "name": "stdout",
     "output_type": "stream",
     "text": [
      "{'date_for': '2022-1-2', 'fajr': '5:16 am', 'shurooq': '6:46 am', 'dhuhr': '11:59 am', 'asr': '2:48 pm', 'maghrib': '5:11 pm', 'isha': '6:31 pm'}\n",
      "5:16 am\n"
     ]
    }
   ],
   "source": [
    "print(response.json().get('items')[0])\n",
    "print(response.json().get('items')[0].get('fajr'))"
   ]
  },
  {
   "cell_type": "code",
   "execution_count": 4,
   "id": "fffb979c",
   "metadata": {},
   "outputs": [],
   "source": [
    "import csv\n",
    "\n",
    "def header():\n",
    "    # Writing headers of CSV file\n",
    "    header = prayers_data.keys()\n",
    "    csv_writer.writerow(header)\n",
    "\n",
    "# change me to 1 in first run :'D\n",
    "fileEmpty = 0\n",
    "prayers_data = response.json().get('items')[0]\n",
    "\n",
    "data_file = open('data_file.csv', 'a+')\n",
    "csv_writer = csv.writer(data_file)\n",
    "\n",
    "if fileEmpty:\n",
    "    header()\n",
    "\n",
    "# Writing data of CSV file\n",
    "csv_writer.writerow(prayers_data.values())\n",
    " \n",
    "data_file.close()"
   ]
  },
  {
   "cell_type": "code",
   "execution_count": null,
   "id": "825960c0",
   "metadata": {},
   "outputs": [],
   "source": []
  }
 ],
 "metadata": {
  "kernelspec": {
   "display_name": "Python 3 (ipykernel)",
   "language": "python",
   "name": "python3"
  },
  "language_info": {
   "codemirror_mode": {
    "name": "ipython",
    "version": 3
   },
   "file_extension": ".py",
   "mimetype": "text/x-python",
   "name": "python",
   "nbconvert_exporter": "python",
   "pygments_lexer": "ipython3",
   "version": "3.9.7"
  }
 },
 "nbformat": 4,
 "nbformat_minor": 5
}
