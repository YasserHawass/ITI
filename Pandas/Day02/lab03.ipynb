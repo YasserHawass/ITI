{
 "cells": [
  {
   "cell_type": "markdown",
   "metadata": {},
   "source": [
    "prepare the “Telco-customer-churn” dataset as the following:\n",
    "- Use Pandas to read the WA_Fn-UseC_-Telco-Customer-Churn CSV dataset\n",
    "- Kindly set index of the Pandas dataframe by value of CustomerID\n",
    "- Kindly remove duplicates from the dataframe\n",
    "- You may need to convert type of \"TotalCharges\" column from object to\n",
    "    numeric, one of the possible suggestions is to do as the following:\n",
    "        - df['TotalCharges'] = pd.to_numeric(df['TotalCharges'], errors='coerce')\n",
    "        - Take care that the above type conversion will leave some missing values for non-numeric values\n",
    "        - Why we did this?!, you can try one-hot encoding to know\n",
    "- Kindly replace the missing values in \"TotalCharges\" by the average of this column\n",
    "- Kindly do one-hot encoding for all the categorical columns, except \"Contract\" and \"Churn\" columns\n",
    "- Kindly analyze \"Contract\" column, and do ordinal encoding for its values as the following:\n",
    "        - Replace \"Month-to-month\" by 1\n",
    "        - Replace \"One year\" by 2\n",
    "        - Replace \"Two year\" by 3\n",
    "- Kindly convert type of \"Contract\" column to numeric as we did before, and please don't forget to make sure that there's no missing values left in this column after conversion\n",
    "- Kindly do label encoding for \"Churn\" column:\n",
    "        - Replace \"No\" by 0\n",
    "        - Replace \"Yes\" by 1\n",
    "- Kindly convert type of \"Churn\" column to numeric as we did before, and please don't forget to make sure that there's no missing values left in this column after conversion\n",
    "- Create a separate dataframe contains the “Churn” values, to act as Targets/Labels while training the machine learning model\n",
    "        - Take care this new dataframe must has \"CustomerID\" as it's index also\n",
    "        - kindly remove \"Churn\" from the original dataframe\n",
    "- Kindly do normalization for all numerical columns\n",
    "- Kindly save the two prepared dataframes as CSV files\n",
    "\n",
    "##### https://stackoverflow.com/questions/24109779/running-get-dummies-on-several-dataframe-columns"
   ]
  },
  {
   "cell_type": "code",
   "execution_count": 44,
   "metadata": {},
   "outputs": [
    {
     "name": "stderr",
     "output_type": "stream",
     "text": [
      "C:\\Users\\ReAegis\\AppData\\Local\\Temp/ipykernel_12008/3107245484.py:57: FutureWarning: Dropping of nuisance columns in DataFrame reductions (with 'numeric_only=None') is deprecated; in a future version this will raise TypeError.  Select only valid columns before calling the reduction.\n",
      "  df = (df - df.mean()) / (df.max() - df.min())\n",
      "C:\\Users\\ReAegis\\AppData\\Local\\Temp/ipykernel_12008/3107245484.py:57: FutureWarning: Dropping of nuisance columns in DataFrame reductions (with 'numeric_only=None') is deprecated; in a future version this will raise TypeError.  Select only valid columns before calling the reduction.\n",
      "  df = (df - df.mean()) / (df.max() - df.min())\n",
      "C:\\Users\\ReAegis\\AppData\\Local\\Temp/ipykernel_12008/3107245484.py:57: FutureWarning: Dropping of nuisance columns in DataFrame reductions (with 'numeric_only=None') is deprecated; in a future version this will raise TypeError.  Select only valid columns before calling the reduction.\n",
      "  df = (df - df.mean()) / (df.max() - df.min())\n"
     ]
    }
   ],
   "source": [
    "# - Use Pandas to read the WA_Fn-UseC_-Telco-Customer-Churn CSV dataset\n",
    "import pandas as pd\n",
    "\n",
    "df = pd.read_csv('../datasets/WA_Fn-UseC_-Telco-Customer-Churn.csv', sep=',', index_col=0)\n",
    "\n",
    "df.drop_duplicates(inplace=True)\n",
    "\n",
    "# ValueError: Unable to parse string \" \" at position 488\n",
    "df['TotalCharges'] = pd.to_numeric(df['TotalCharges'], errors='coerce')\n",
    "\n",
    "df['TotalCharges'].fillna(df['TotalCharges'].mean(), inplace=True)\n",
    "\n",
    "# please remeber how pd.concat needs a return object\n",
    "# pd.get_dummies(data = df, columns=['gender','Partner','Dependents', 'PhoneService', 'MultipleLines','OnlineSecurity', 'OnlineBackup','DeviceProtection', 'TechSupport','StreamingTV','StreamingMovies','PaperlessBilling','PaymentMethod']).info()\n",
    "# multiple columns originated here, since pandas 0.19, returned rest of the columns\n",
    "# df = pd.concat([df, pd.get_dummies(df, columns=['gender','Partner','Dependents', 'PhoneService', 'MultipleLines','OnlineSecurity', 'OnlineBackup','DeviceProtection', 'TechSupport','StreamingTV','StreamingMovies','PaperlessBilling','PaymentMethod'])], axis=1)\n",
    "df = pd.get_dummies(df, columns=['gender','Partner','Dependents', 'PhoneService', 'MultipleLines','OnlineSecurity', 'OnlineBackup','DeviceProtection', 'TechSupport','StreamingTV','StreamingMovies','PaperlessBilling','PaymentMethod'])\n",
    "\n",
    "# there must be a better way to do this, like indexing or something, but :/\n",
    "# no need for that on pandas 0.19\n",
    "# del df['gender']\n",
    "# del df['Partner']\n",
    "# del df['Dependents']\n",
    "# del df['PhoneService']\n",
    "# del df['MultipleLines']\n",
    "# del df['OnlineSecurity']\n",
    "# del df['OnlineBackup']\n",
    "# del df['DeviceProtection']\n",
    "# del df['TechSupport']\n",
    "# del df['StreamingTV']\n",
    "# del df['StreamingMovies']\n",
    "# del df['PaperlessBilling']\n",
    "# del df['PaymentMethod']\n",
    "\n",
    "# Q1: what if there was a null, the conversion to float would be NaN, and then a fillna would be needed after *sigh*\n",
    "# Q2: what if there was a string left after the replace, the conversion won't occur? (YES) (But it's the dev duty to check)\n",
    "# Q3: Isn't it better to filla before the conversion? ( #TODO ) (since replace if done correct it should negtate the need for a middle fillna)\n",
    "# Q4: won't a null be present in the .info() and provid an insight while making the replace, and negating the need for all fillna? ( #TODO )\n",
    "\n",
    "# Contract didn't have any missing values according to .info() so it's green light here!\n",
    "Contract_order_dict = {'Month-to-month': 1, 'One year': 2, 'Two year': 3}\n",
    "df['Contract'] = df['Contract'].replace(Contract_order_dict) # probably will ignore what is not in the dict, and thus need a fillna before turn to numeric(or it will give an error)\n",
    "df['Contract'] = pd.to_numeric(df['Contract'])\n",
    "df['Contract'].fillna(df['Contract'].mean(), inplace=True) # fillna with mean of the column, but not required...\n",
    "\n",
    "Churn_order_dict = {'No': 0, 'Yes': 1}\n",
    "df['Churn'] = df['Churn'].replace(Churn_order_dict)\n",
    "df['Churn'] = pd.to_numeric(df['Churn']) # no need to fillna, since it's already done in the previous step (replace) (if not all was included an error might occur btw while conversion)\n",
    "df['Churn'].fillna(df['Churn'].mean(), inplace=True) #since it's asked to fillna, it's not needed to do it here\n",
    "\n",
    "df2 = df[['Churn']]\n",
    "# df2.set_index('CustomerID', inplace=True) # this is not needed, since it's already done in the previous step\n",
    "df.drop(['Churn'], axis=1, inplace=True)\n",
    "\n",
    "# Q5: vales of Churn differs depending on when the norm was done (before or after turning into new df), and thus does it differ to the model? ( #TODO )\n",
    "# Deprecation warning alternative #TODO\n",
    "df = (df - df.mean()) / (df.max() - df.min())\n",
    "df2 = (df2 - df2.mean()) / (df2.max() - df2.min())\n",
    "\n",
    "df.to_csv('../datasets/WA_Fn-UseC_-Telco-Customer-Churn_prepared_1.csv', sep=',', index=False)\n",
    "df2.to_csv('../datasets/WA_Fn-UseC_-Telco-Customer-Churn_prepared_Churn_2.csv', sep=',', index=False)\n",
    "\n"
   ]
  },
  {
   "cell_type": "code",
   "execution_count": null,
   "metadata": {},
   "outputs": [],
   "source": []
  }
 ],
 "metadata": {
  "interpreter": {
   "hash": "b3ba2566441a7c06988d0923437866b63cedc61552a5af99d1f4fb67d367b25f"
  },
  "kernelspec": {
   "display_name": "Python 3.9.7 64-bit ('base': conda)",
   "language": "python",
   "name": "python3"
  },
  "language_info": {
   "codemirror_mode": {
    "name": "ipython",
    "version": 3
   },
   "file_extension": ".py",
   "mimetype": "text/x-python",
   "name": "python",
   "nbconvert_exporter": "python",
   "pygments_lexer": "ipython3",
   "version": "3.9.7"
  },
  "orig_nbformat": 4
 },
 "nbformat": 4,
 "nbformat_minor": 2
}
